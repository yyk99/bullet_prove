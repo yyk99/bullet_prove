{
 "cells": [
  {
   "cell_type": "markdown",
   "id": "5c8d3d53",
   "metadata": {},
   "source": [
    "## Error bar rendering on polar axis\n",
    "Demo of error bar plot in polar coordinates. Theta error bars are curved lines ended with caps oriented towards the center. Radius error bars are straight lines oriented towards center with perpendicular caps."
   ]
  },
  {
   "cell_type": "code",
   "execution_count": null,
   "id": "9b28319d",
   "metadata": {},
   "outputs": [],
   "source": [
    "import numpy as np\n",
    "import matplotlib.pyplot as plt\n",
    "\n",
    "theta = np.arange(0, 2 * np.pi, np.pi / 4)\n",
    "r = theta / np.pi / 2 + 0.5\n",
    "\n",
    "fig = plt.figure(figsize=(10, 10))\n",
    "ax = fig.add_subplot(projection=\"polar\")\n",
    "ax.errorbar(theta, r, xerr=0.25, yerr=0.1, capsize=7, fmt=\"o\", c=\"seagreen\")\n",
    "ax.set_title(\"Pretty polar error bars\")\n",
    "plt.show()"
   ]
  },
  {
   "cell_type": "code",
   "execution_count": null,
   "id": "18cca765",
   "metadata": {},
   "outputs": [],
   "source": [
    "import numpy as np\n",
    "import matplotlib.pyplot as plt\n",
    "import matplotlib.cbook as cbook\n",
    "\n",
    "# Load a numpy record array from yahoo csv data with fields date, open, high,\n",
    "# low, close, volume, adj_close from the mpl-data/sample_data directory. The\n",
    "# record array stores the date as an np.datetime64 with a day unit ('D') in\n",
    "# the date column.\n",
    "price_data = cbook.get_sample_data(\"goog.npz\", np_load=True)[\"price_data\"].view(\n",
    "    np.recarray\n",
    ")\n",
    "price_data = price_data[-250:]  # get the most recent 250 trading days\n",
    "\n",
    "delta1 = np.diff(price_data.adj_close) / price_data.adj_close[:-1]\n",
    "\n",
    "# Marker size in units of points^2\n",
    "volume = (15 * price_data.volume[:-2] / price_data.volume[0]) ** 2\n",
    "close = 0.003 * price_data.close[:-2] / 0.003 * price_data.open[:-2]\n",
    "\n",
    "fig, ax = plt.subplots()\n",
    "ax.scatter(delta1[:-1], delta1[1:], c=close, s=volume, alpha=0.5)\n",
    "\n",
    "ax.set_xlabel(r\"$\\Delta_i$\", fontsize=15)\n",
    "ax.set_ylabel(r\"$\\Delta_{i+1}$\", fontsize=15)\n",
    "ax.set_title(\"Volume and percent change\")\n",
    "\n",
    "ax.grid(True)\n",
    "fig.tight_layout()\n",
    "\n",
    "plt.show()"
   ]
  },
  {
   "cell_type": "code",
   "execution_count": null,
   "id": "756ca395",
   "metadata": {},
   "outputs": [],
   "source": [
    "import matplotlib.pyplot as plt\n",
    "import numpy as np\n",
    "\n",
    "plt.style.use('_mpl-gallery')\n",
    "\n",
    "# make the data\n",
    "np.random.seed(3)\n",
    "x = 4 + np.random.normal(0, 2, 24)\n",
    "y = 4 + np.random.normal(0, 2, len(x))\n",
    "# size and color:\n",
    "sizes = np.random.uniform(15, 80, len(x))\n",
    "colors = np.random.uniform(15, 80, len(x))\n",
    "\n",
    "# plot\n",
    "fig, ax = plt.subplots()\n",
    "\n",
    "ax.scatter(x, y, s=sizes, c=colors, vmin=0, vmax=100)\n",
    "\n",
    "ax.set(xlim=(0, 8), xticks=np.arange(1, 8),\n",
    "       ylim=(0, 8), yticks=np.arange(1, 8))\n",
    "\n",
    "plt.show()"
   ]
  },
  {
   "cell_type": "code",
   "execution_count": 7,
   "id": "c072b223-dbe0-47c0-9190-20bad40ef37b",
   "metadata": {},
   "outputs": [
    {
     "name": "stdout",
     "output_type": "stream",
     "text": [
      "['Solarize_Light2', '_classic_test_patch', '_mpl-gallery', '_mpl-gallery-nogrid', 'bmh', 'classic', 'dark_background', 'fast', 'fivethirtyeight', 'ggplot', 'grayscale', 'seaborn-v0_8', 'seaborn-v0_8-bright', 'seaborn-v0_8-colorblind', 'seaborn-v0_8-dark', 'seaborn-v0_8-dark-palette', 'seaborn-v0_8-darkgrid', 'seaborn-v0_8-deep', 'seaborn-v0_8-muted', 'seaborn-v0_8-notebook', 'seaborn-v0_8-paper', 'seaborn-v0_8-pastel', 'seaborn-v0_8-poster', 'seaborn-v0_8-talk', 'seaborn-v0_8-ticks', 'seaborn-v0_8-white', 'seaborn-v0_8-whitegrid', 'tableau-colorblind10']\n"
     ]
    },
    {
     "data": {
      "image/png": "[encoded data removed]",
      "text/plain": [
       "<Figure size 640x480 with 1 Axes>"
      ]
     },
     "metadata": {},
     "output_type": "display_data"
    }
   ],
   "source": [
    "import matplotlib.pyplot as plt\n",
    "import numpy as np\n",
    "\n",
    "print(plt.style.available)\n",
    "\n",
    "plt.style.use(\"classic\")\n",
    "\n",
    "# make the data\n",
    "np.random.seed(3)\n",
    "x = 4 + np.random.normal(0, 2, 10)\n",
    "y = 4 + np.random.normal(0, 2, len(x))\n",
    "# size and color:\n",
    "sizes = np.random.uniform(50, 50, len(x))\n",
    "#print(type(sizes))\n",
    "#colors = [ 'black' ] * len(x)\n",
    "colors = np.random.uniform(255, 255, len(x))\n",
    "\n",
    "# plot\n",
    "fig, ax = plt.subplots()\n",
    "\n",
    "ax.scatter(x, y, s=sizes, c=colors, vmin=0, vmax=100)\n",
    "\n",
    "if False:\n",
    "    ax.set(xlim=(0, 8), xticks=np.arange(1, 8),\n",
    "           ylim=(0, 8), yticks=np.arange(1, 8))\n",
    "else:\n",
    "    ax.axis('off')\n",
    "\n",
    "#plt.show()"
   ]
  },
  {
   "cell_type": "code",
   "execution_count": 7,
   "id": "d572211b-2d5b-45cc-8bf0-38392aac2c95",
   "metadata": {},
   "outputs": [],
   "source": [
    "import os\n",
    "os.makedirs(\"out\", exist_ok=True)\n",
    "\n",
    "fig.savefig(\"out/fig0001.png\")\n",
    "plt.close(fig)"
   ]
  },
  {
   "cell_type": "code",
   "execution_count": null,
   "id": "68e4903b-6741-4d47-a06a-50a2da7dede0",
   "metadata": {},
   "outputs": [],
   "source": []
  }
 ],
 "metadata": {
  "kernelspec": {
   "display_name": "Python 3 (ipykernel)",
   "language": "python",
   "name": "python3"
  },
  "language_info": {
   "codemirror_mode": {
    "name": "ipython",
    "version": 3
   },
   "file_extension": ".py",
   "mimetype": "text/x-python",
   "name": "python",
   "nbconvert_exporter": "python",
   "pygments_lexer": "ipython3",
   "version": "3.9.13"
  }
 },
 "nbformat": 4,
 "nbformat_minor": 5
}
