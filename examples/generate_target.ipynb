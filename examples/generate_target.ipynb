{
 "cells": [
  {
   "cell_type": "markdown",
   "id": "5c8d3d53",
   "metadata": {},
   "source": [
    "## Error bar rendering on polar axis\n",
    "Demo of error bar plot in polar coordinates. Theta error bars are curved lines ended with caps oriented towards the center. Radius error bars are straight lines oriented towards center with perpendicular caps."
   ]
  },
  {
   "cell_type": "code",
   "execution_count": null,
   "id": "9b28319d",
   "metadata": {},
   "outputs": [],
   "source": [
    "import numpy as np\n",
    "import matplotlib.pyplot as plt\n",
    "\n",
    "theta = np.arange(0, 2 * np.pi, np.pi / 4)\n",
    "r = theta / np.pi / 2 + 0.5\n",
    "\n",
    "fig = plt.figure(figsize=(10, 10))\n",
    "ax = fig.add_subplot(projection='polar')\n",
    "ax.errorbar(theta, r, xerr=0.25, yerr=0.1, capsize=7, fmt=\"o\", c=\"seagreen\")\n",
    "ax.set_title(\"Pretty polar error bars\")\n",
    "plt.show()"
   ]
  },
  {
   "cell_type": "code",
   "execution_count": null,
   "id": "18cca765",
   "metadata": {},
   "outputs": [],
   "source": [
    "import numpy as np\n",
    "import matplotlib.pyplot as plt\n",
    "import matplotlib.cbook as cbook\n",
    "\n",
    "# Load a numpy record array from yahoo csv data with fields date, open, high,\n",
    "# low, close, volume, adj_close from the mpl-data/sample_data directory. The\n",
    "# record array stores the date as an np.datetime64 with a day unit ('D') in\n",
    "# the date column.\n",
    "price_data = (cbook.get_sample_data('goog.npz', np_load=True)['price_data']\n",
    "              .view(np.recarray))\n",
    "price_data = price_data[-250:]  # get the most recent 250 trading days\n",
    "\n",
    "delta1 = np.diff(price_data.adj_close) / price_data.adj_close[:-1]\n",
    "\n",
    "# Marker size in units of points^2\n",
    "volume = (15 * price_data.volume[:-2] / price_data.volume[0])**2\n",
    "close = 0.003 * price_data.close[:-2] / 0.003 * price_data.open[:-2]\n",
    "\n",
    "fig, ax = plt.subplots()\n",
    "ax.scatter(delta1[:-1], delta1[1:], c=close, s=volume, alpha=0.5)\n",
    "\n",
    "ax.set_xlabel(r'$\\Delta_i$', fontsize=15)\n",
    "ax.set_ylabel(r'$\\Delta_{i+1}$', fontsize=15)\n",
    "ax.set_title('Volume and percent change')\n",
    "\n",
    "ax.grid(True)\n",
    "fig.tight_layout()\n",
    "\n",
    "plt.show()"
   ]
  },
  {
   "cell_type": "code",
   "execution_count": null,
   "id": "a4a4087d",
   "metadata": {},
   "outputs": [],
   "source": [
    "#\n",
    "# what is inside the data\n",
    "#\n",
    "\n",
    "import numpy as np\n",
    "import matplotlib.pyplot as plt\n",
    "import matplotlib.cbook as cbook\n",
    "\n",
    "# Load a numpy record array from yahoo csv data with fields date, open, high,\n",
    "# low, close, volume, adj_close from the mpl-data/sample_data directory. The\n",
    "# record array stores the date as an np.datetime64 with a day unit ('D') in\n",
    "# the date column.\n",
    "price_data = (cbook.get_sample_data('goog.npz', np_load=True)['price_data']\n",
    "              .view(np.recarray))\n",
    "price_data = price_data[-250:]  # get the most recent 250 trading days"
   ]
  },
  {
   "cell_type": "code",
   "execution_count": null,
   "id": "25058796",
   "metadata": {},
   "outputs": [],
   "source": [
    "type(price_data)"
   ]
  },
  {
   "cell_type": "code",
   "execution_count": null,
   "id": "5251631e",
   "metadata": {},
   "outputs": [],
   "source": [
    "type(cbook.get_sample_data('goog.npz', np_load=True))"
   ]
  },
  {
   "cell_type": "code",
   "execution_count": null,
   "id": "c0d15040",
   "metadata": {},
   "outputs": [],
   "source": [
    "goog_npz = cbook.get_sample_data('goog.npz', np_load=True)"
   ]
  },
  {
   "cell_type": "code",
   "execution_count": null,
   "id": "37fc541d",
   "metadata": {},
   "outputs": [],
   "source": [
    "for p in goog_npz.keys():\n",
    "    print(p)"
   ]
  },
  {
   "cell_type": "code",
   "execution_count": null,
   "id": "eb0dceb0",
   "metadata": {},
   "outputs": [],
   "source": []
  }
 ],
 "metadata": {
  "kernelspec": {
   "display_name": "Python 3 (ipykernel)",
   "language": "python",
   "name": "python3"
  },
  "language_info": {
   "codemirror_mode": {
    "name": "ipython",
    "version": 3
   },
   "file_extension": ".py",
   "mimetype": "text/x-python",
   "name": "python",
   "nbconvert_exporter": "python",
   "pygments_lexer": "ipython3",
   "version": "3.9.13"
  }
 },
 "nbformat": 4,
 "nbformat_minor": 5
}
